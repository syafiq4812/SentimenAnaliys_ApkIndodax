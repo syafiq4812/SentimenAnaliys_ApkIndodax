{
 "cells": [
  {
   "cell_type": "markdown",
   "id": "bd96c03c",
   "metadata": {
    "id": "bd96c03c"
   },
   "source": [
    "# Scrapping Data APK (Indodax)"
   ]
  },
  {
   "cell_type": "markdown",
   "id": "755fbcf5",
   "metadata": {
    "id": "755fbcf5"
   },
   "source": [
    "Pada proyek ini, akan melakukan analisis sentimen terhadap ulasan dan pendapat pengguna terkait aplikasi \"Indodax\" di Play Store. Analisis sentimen akan membantu kita untuk memahami bagaimana pengguna merasakan dan mengungkapkan pandangan mereka terhadap aplikasi ini.\n",
    "\n",
    "Dengan menggunakan berbagai teknik pemrosesan teks dan algoritma machine learning, kita akan mencoba mengidentifikasi apakah ulasan pengguna terhadap aplikasi \"Indodax\" cenderung positif, negatif, atau netral. Hasil analisis sentimen ini dapat memberikan wawasan berharga kepada pengembang aplikasi untuk meningkatkan pengalaman pengguna. Mari kita mulai menjelajahi ulasan pengguna dan menganalisis sentimen di sekitar aplikasi \"Indodax\" dengan lebih mendalam."
   ]
  },
  {
   "cell_type": "code",
   "execution_count": null,
   "id": "0a973846",
   "metadata": {
    "colab": {
     "base_uri": "https://localhost:8080/"
    },
    "executionInfo": {
     "elapsed": 2592,
     "status": "ok",
     "timestamp": 1746846985935,
     "user": {
      "displayName": "AIRDU BUILDER",
      "userId": "12926940554157113088"
     },
     "user_tz": -420
    },
    "id": "0a973846",
    "outputId": "4731f4c5-3edb-4af9-c59b-b4a705787a94"
   },
   "outputs": [
    {
     "name": "stdout",
     "output_type": "stream",
     "text": [
      "Collecting google-play-scraper\n",
      "  Downloading google_play_scraper-1.2.7-py3-none-any.whl.metadata (50 kB)\n",
      "\u001b[?25l     \u001b[90m━━━━━━━━━━━━━━━━━━━━━━━━━━━━━━━━━━━━━━━━\u001b[0m \u001b[32m0.0/50.2 kB\u001b[0m \u001b[31m?\u001b[0m eta \u001b[36m-:--:--\u001b[0m\r\u001b[2K     \u001b[90m━━━━━━━━━━━━━━━━━━━━━━━━━━━━━━━━━━━━━━━━\u001b[0m \u001b[32m50.2/50.2 kB\u001b[0m \u001b[31m4.4 MB/s\u001b[0m eta \u001b[36m0:00:00\u001b[0m\n",
      "\u001b[?25hDownloading google_play_scraper-1.2.7-py3-none-any.whl (28 kB)\n",
      "Installing collected packages: google-play-scraper\n",
      "Successfully installed google-play-scraper-1.2.7\n"
     ]
    }
   ],
   "source": [
    "!pip install google-play-scraper"
   ]
  },
  {
   "cell_type": "code",
   "execution_count": null,
   "id": "34ac5ca9",
   "metadata": {
    "id": "34ac5ca9"
   },
   "outputs": [],
   "source": [
    "# Mengimpor pustaka google_play_scraper untuk mengakses ulasan dan informasi aplikasi dari Google Play Store.\n",
    "from google_play_scraper import app, reviews_all, Sort\n",
    "\n",
    "# Mengambil semua ulasan dari aplikasi dengan ID 'id.co.bitcoin' di Google Play Store.\n",
    "scrapreview = reviews_all(\n",
    "    'id.co.bitcoin',          # ID aplikasi\n",
    "    lang='id',             # Bahasa ulasan\n",
    "    country='id',          # Negara\n",
    "    sort=Sort.MOST_RELEVANT,\n",
    "    count=0\n",
    ")"
   ]
  },
  {
   "cell_type": "code",
   "execution_count": null,
   "id": "34af302b",
   "metadata": {
    "colab": {
     "base_uri": "https://localhost:8080/"
    },
    "executionInfo": {
     "elapsed": 22909,
     "status": "ok",
     "timestamp": 1746847067933,
     "user": {
      "displayName": "AIRDU BUILDER",
      "userId": "12926940554157113088"
     },
     "user_tz": -420
    },
    "id": "34af302b",
    "outputId": "37fa40c1-0639-4f0c-cbd1-9c86e9afc977"
   },
   "outputs": [
    {
     "name": "stdout",
     "output_type": "stream",
     "text": [
      "Mounted at /content/drive\n"
     ]
    }
   ],
   "source": [
    "# Mounting\n",
    "from google.colab import drive\n",
    "drive.mount('/content/drive')"
   ]
  },
  {
   "cell_type": "code",
   "execution_count": null,
   "id": "39bac3bc",
   "metadata": {
    "id": "39bac3bc"
   },
   "outputs": [],
   "source": [
    "# Menyimpan ulasan dalam file CSV\n",
    "import csv\n",
    "\n",
    "with open('ulasan_aplikasi.csv', mode='w', newline='', encoding='utf-8') as file:\n",
    "    writer = csv.writer(file)\n",
    "    writer.writerow(['Review'])  # Menulis header kolom\n",
    "    for review in scrapreview:\n",
    "        writer.writerow([review['content']])  # Menulis konten ulasan ke dalam file CSV"
   ]
  },
  {
   "cell_type": "code",
   "execution_count": null,
   "id": "b6dee0a0",
   "metadata": {
    "id": "b6dee0a0"
   },
   "outputs": [],
   "source": [
    "import pandas as pd\n",
    "app_reviews_df = pd.DataFrame(scrapreview)\n",
    "app_reviews_df.to_csv('/content/drive/MyDrive/Dicoding/Analisi Sentimen /Indodax Analisis/ulasan_aplikasi.csv', index=False)"
   ]
  },
  {
   "cell_type": "code",
   "execution_count": null,
   "id": "79e31909",
   "metadata": {
    "colab": {
     "base_uri": "https://localhost:8080/"
    },
    "executionInfo": {
     "elapsed": 26,
     "status": "ok",
     "timestamp": 1746847093866,
     "user": {
      "displayName": "AIRDU BUILDER",
      "userId": "12926940554157113088"
     },
     "user_tz": -420
    },
    "id": "79e31909",
    "outputId": "4da4cb7e-87d4-462a-8740-56f9de60ac98"
   },
   "outputs": [
    {
     "data": {
      "text/plain": [
       "(68318, 11)"
      ]
     },
     "execution_count": 6,
     "metadata": {},
     "output_type": "execute_result"
    }
   ],
   "source": [
    "app_reviews_df.shape"
   ]
  },
  {
   "cell_type": "code",
   "execution_count": null,
   "id": "3a82a07e",
   "metadata": {
    "colab": {
     "base_uri": "https://localhost:8080/",
     "height": 623
    },
    "executionInfo": {
     "elapsed": 704,
     "status": "ok",
     "timestamp": 1746847098537,
     "user": {
      "displayName": "AIRDU BUILDER",
      "userId": "12926940554157113088"
     },
     "user_tz": -420
    },
    "id": "3a82a07e",
    "outputId": "6877ff3a-68e9-4c09-fba0-65bc0520ef76"
   },
   "outputs": [
    {
     "data": {
      "application/vnd.google.colaboratory.intrinsic+json": {
       "summary": "{\n  \"name\": \"app_reviews_df\",\n  \"rows\": 68318,\n  \"fields\": [\n    {\n      \"column\": \"reviewId\",\n      \"properties\": {\n        \"dtype\": \"string\",\n        \"num_unique_values\": 68318,\n        \"samples\": [\n          \"2163e3cd-3cfe-46e7-876d-7ef5286d6803\",\n          \"b0230956-fb5b-4fd3-8150-2d1a1692d6c8\",\n          \"ba959dcd-6a98-46fe-9813-79c9a55f8ed1\"\n        ],\n        \"semantic_type\": \"\",\n        \"description\": \"\"\n      }\n    },\n    {\n      \"column\": \"userName\",\n      \"properties\": {\n        \"dtype\": \"category\",\n        \"num_unique_values\": 753,\n        \"samples\": [\n          \"Surya Bpr\",\n          \"Arifin Herlina\",\n          \"Rukmini Emi\"\n        ],\n        \"semantic_type\": \"\",\n        \"description\": \"\"\n      }\n    },\n    {\n      \"column\": \"userImage\",\n      \"properties\": {\n        \"dtype\": \"category\",\n        \"num_unique_values\": 755,\n        \"samples\": [\n          \"https://play-lh.googleusercontent.com/a-/ALV-UjWw5sF4EFvDtAFxmzdtb9BIE5YGztHa2ebf46Hpoweo04QbL2L_BA\",\n          \"https://play-lh.googleusercontent.com/a-/ALV-UjWa3OqxA9LIykY2ADFklphMdWGMdObNrzglV0NLzHNAx8sMJYof\",\n          \"https://play-lh.googleusercontent.com/a/ACg8ocKYQ0TIxl6SjOFJEYTVE_Ag2vfoKZcGZ-4CTX-PnJSvZsfX=mo\"\n        ],\n        \"semantic_type\": \"\",\n        \"description\": \"\"\n      }\n    },\n    {\n      \"column\": \"content\",\n      \"properties\": {\n        \"dtype\": \"string\",\n        \"num_unique_values\": 55464,\n        \"samples\": [\n          \"Selalu maintenance ketika ada pump, jadi nggak bisa ambil take profit, mau untung mlah rugi\",\n          \"Aplikasi sering error. Kenapa sih tidak diperbaiki\",\n          \"Indodax makin sering error loh di saat2 penting, yakin mau download ?\"\n        ],\n        \"semantic_type\": \"\",\n        \"description\": \"\"\n      }\n    },\n    {\n      \"column\": \"score\",\n      \"properties\": {\n        \"dtype\": \"number\",\n        \"std\": 1,\n        \"min\": 1,\n        \"max\": 5,\n        \"num_unique_values\": 5,\n        \"samples\": [\n          2,\n          4,\n          1\n        ],\n        \"semantic_type\": \"\",\n        \"description\": \"\"\n      }\n    },\n    {\n      \"column\": \"thumbsUpCount\",\n      \"properties\": {\n        \"dtype\": \"number\",\n        \"std\": 4,\n        \"min\": 0,\n        \"max\": 319,\n        \"num_unique_values\": 112,\n        \"samples\": [\n          37,\n          43,\n          3\n        ],\n        \"semantic_type\": \"\",\n        \"description\": \"\"\n      }\n    },\n    {\n      \"column\": \"reviewCreatedVersion\",\n      \"properties\": {\n        \"dtype\": \"category\",\n        \"num_unique_values\": 167,\n        \"samples\": [\n          \"3.2.9\",\n          \"2.7.0\",\n          \"4.3.8\"\n        ],\n        \"semantic_type\": \"\",\n        \"description\": \"\"\n      }\n    },\n    {\n      \"column\": \"at\",\n      \"properties\": {\n        \"dtype\": \"date\",\n        \"min\": \"2014-12-20 08:40:03\",\n        \"max\": \"2025-05-09 02:36:29\",\n        \"num_unique_values\": 67879,\n        \"samples\": [\n          \"2020-07-15 22:30:44\",\n          \"2021-01-25 07:33:54\",\n          \"2024-11-30 12:40:30\"\n        ],\n        \"semantic_type\": \"\",\n        \"description\": \"\"\n      }\n    },\n    {\n      \"column\": \"replyContent\",\n      \"properties\": {\n        \"dtype\": \"category\",\n        \"num_unique_values\": 2129,\n        \"samples\": [\n          \"Dear member Indodax. Terima kasih atas review positifnya. Semoga Anda selalu setia menjadi member Indodax. Apabila Anda mengalami kendala dalam bertransaksi melalui aplikasi ini, mohon langsung hubungi support@indodax.com, Live Chat atau di Call Center (021) 5065 8888. Terima kasih.\\n\\n\",\n          \"Terima kasih atas review Anda Bapak/Ibu Sunan\",\n          \"\\ufeffDear member Indodax. Terima kasih atas review Anda. Kami akan berusaha untuk selalu memberikan yang terbaik untuk pengguna. Apabila Anda mengalami kendala dalam bertransaksi melalui aplikasi ini, mohon langsung hubungi support@indodax.com, Live Chat atau di 021 - 50525588. Terima kasih.\"\n        ],\n        \"semantic_type\": \"\",\n        \"description\": \"\"\n      }\n    },\n    {\n      \"column\": \"repliedAt\",\n      \"properties\": {\n        \"dtype\": \"date\",\n        \"min\": \"2017-12-19 08:47:42\",\n        \"max\": \"2025-05-10 01:18:42\",\n        \"num_unique_values\": 68120,\n        \"samples\": [\n          \"2024-08-07 10:36:29\",\n          \"2025-03-15 14:20:30\",\n          \"2021-05-18 06:25:39\"\n        ],\n        \"semantic_type\": \"\",\n        \"description\": \"\"\n      }\n    },\n    {\n      \"column\": \"appVersion\",\n      \"properties\": {\n        \"dtype\": \"category\",\n        \"num_unique_values\": 167,\n        \"samples\": [\n          \"3.2.9\",\n          \"2.7.0\",\n          \"4.3.8\"\n        ],\n        \"semantic_type\": \"\",\n        \"description\": \"\"\n      }\n    }\n  ]\n}",
       "type": "dataframe",
       "variable_name": "app_reviews_df"
      },
      "text/html": [
       "\n",
       "  <div id=\"df-e7831650-bdd2-4aff-9ac9-41f1a81409f8\" class=\"colab-df-container\">\n",
       "    <div>\n",
       "<style scoped>\n",
       "    .dataframe tbody tr th:only-of-type {\n",
       "        vertical-align: middle;\n",
       "    }\n",
       "\n",
       "    .dataframe tbody tr th {\n",
       "        vertical-align: top;\n",
       "    }\n",
       "\n",
       "    .dataframe thead th {\n",
       "        text-align: right;\n",
       "    }\n",
       "</style>\n",
       "<table border=\"1\" class=\"dataframe\">\n",
       "  <thead>\n",
       "    <tr style=\"text-align: right;\">\n",
       "      <th></th>\n",
       "      <th>reviewId</th>\n",
       "      <th>userName</th>\n",
       "      <th>userImage</th>\n",
       "      <th>content</th>\n",
       "      <th>score</th>\n",
       "      <th>thumbsUpCount</th>\n",
       "      <th>reviewCreatedVersion</th>\n",
       "      <th>at</th>\n",
       "      <th>replyContent</th>\n",
       "      <th>repliedAt</th>\n",
       "      <th>appVersion</th>\n",
       "    </tr>\n",
       "  </thead>\n",
       "  <tbody>\n",
       "    <tr>\n",
       "      <th>0</th>\n",
       "      <td>c81e3f12-5ba4-4a62-9fbb-404cfc7696d7</td>\n",
       "      <td>Pengguna Google</td>\n",
       "      <td>https://play-lh.googleusercontent.com/EGemoI2N...</td>\n",
       "      <td>kesulitan ada disaat pembuatan garis trend dan...</td>\n",
       "      <td>5</td>\n",
       "      <td>4</td>\n",
       "      <td>5.5.0</td>\n",
       "      <td>2025-05-07 05:15:57</td>\n",
       "      <td>Dear member INDODAX. Terima kasih atas review ...</td>\n",
       "      <td>2025-05-07 20:59:32</td>\n",
       "      <td>5.5.0</td>\n",
       "    </tr>\n",
       "    <tr>\n",
       "      <th>1</th>\n",
       "      <td>a86fe68b-785a-4b6f-af4f-17be12f5de60</td>\n",
       "      <td>Pengguna Google</td>\n",
       "      <td>https://play-lh.googleusercontent.com/EGemoI2N...</td>\n",
       "      <td>Indodax 3.0 mudah digunakan dan aksesibel, Den...</td>\n",
       "      <td>5</td>\n",
       "      <td>20</td>\n",
       "      <td>5.5.0</td>\n",
       "      <td>2025-05-04 01:35:01</td>\n",
       "      <td>Dear member INDODAX. Terima kasih atas review ...</td>\n",
       "      <td>2025-05-03 11:16:57</td>\n",
       "      <td>5.5.0</td>\n",
       "    </tr>\n",
       "    <tr>\n",
       "      <th>2</th>\n",
       "      <td>04d70e2f-765e-46d9-b05f-41da2e7d13fe</td>\n",
       "      <td>Pengguna Google</td>\n",
       "      <td>https://play-lh.googleusercontent.com/EGemoI2N...</td>\n",
       "      <td>menurut saya aplikasi indodax ini sangat memba...</td>\n",
       "      <td>5</td>\n",
       "      <td>9</td>\n",
       "      <td>5.5.0</td>\n",
       "      <td>2025-05-05 07:13:11</td>\n",
       "      <td>Dear member INDODAX, terima kasih atas review ...</td>\n",
       "      <td>2025-05-05 21:19:58</td>\n",
       "      <td>5.5.0</td>\n",
       "    </tr>\n",
       "    <tr>\n",
       "      <th>3</th>\n",
       "      <td>d3f2847f-5945-48f2-b8ec-151929689e88</td>\n",
       "      <td>Pengguna Google</td>\n",
       "      <td>https://play-lh.googleusercontent.com/EGemoI2N...</td>\n",
       "      <td>top lah buat aplikasi indodax, buat investasi ...</td>\n",
       "      <td>5</td>\n",
       "      <td>5</td>\n",
       "      <td>5.5.0</td>\n",
       "      <td>2025-05-06 10:48:48</td>\n",
       "      <td>Dear member, terima kasih telah mengikuti even...</td>\n",
       "      <td>2025-05-06 13:19:40</td>\n",
       "      <td>5.5.0</td>\n",
       "    </tr>\n",
       "    <tr>\n",
       "      <th>4</th>\n",
       "      <td>e8a40a50-62da-472f-ad0e-5089d9df74b1</td>\n",
       "      <td>Pengguna Google</td>\n",
       "      <td>https://play-lh.googleusercontent.com/EGemoI2N...</td>\n",
       "      <td>menurut saya ini aplikasi indodax paling mudah...</td>\n",
       "      <td>5</td>\n",
       "      <td>3</td>\n",
       "      <td>5.5.0</td>\n",
       "      <td>2025-05-04 16:44:17</td>\n",
       "      <td>Dear member, terima kasih telah mengikuti even...</td>\n",
       "      <td>2025-05-05 02:08:48</td>\n",
       "      <td>5.5.0</td>\n",
       "    </tr>\n",
       "  </tbody>\n",
       "</table>\n",
       "</div>\n",
       "    <div class=\"colab-df-buttons\">\n",
       "\n",
       "  <div class=\"colab-df-container\">\n",
       "    <button class=\"colab-df-convert\" onclick=\"convertToInteractive('df-e7831650-bdd2-4aff-9ac9-41f1a81409f8')\"\n",
       "            title=\"Convert this dataframe to an interactive table.\"\n",
       "            style=\"display:none;\">\n",
       "\n",
       "  <svg xmlns=\"http://www.w3.org/2000/svg\" height=\"24px\" viewBox=\"0 -960 960 960\">\n",
       "    <path d=\"M120-120v-720h720v720H120Zm60-500h600v-160H180v160Zm220 220h160v-160H400v160Zm0 220h160v-160H400v160ZM180-400h160v-160H180v160Zm440 0h160v-160H620v160ZM180-180h160v-160H180v160Zm440 0h160v-160H620v160Z\"/>\n",
       "  </svg>\n",
       "    </button>\n",
       "\n",
       "  <style>\n",
       "    .colab-df-container {\n",
       "      display:flex;\n",
       "      gap: 12px;\n",
       "    }\n",
       "\n",
       "    .colab-df-convert {\n",
       "      background-color: #E8F0FE;\n",
       "      border: none;\n",
       "      border-radius: 50%;\n",
       "      cursor: pointer;\n",
       "      display: none;\n",
       "      fill: #1967D2;\n",
       "      height: 32px;\n",
       "      padding: 0 0 0 0;\n",
       "      width: 32px;\n",
       "    }\n",
       "\n",
       "    .colab-df-convert:hover {\n",
       "      background-color: #E2EBFA;\n",
       "      box-shadow: 0px 1px 2px rgba(60, 64, 67, 0.3), 0px 1px 3px 1px rgba(60, 64, 67, 0.15);\n",
       "      fill: #174EA6;\n",
       "    }\n",
       "\n",
       "    .colab-df-buttons div {\n",
       "      margin-bottom: 4px;\n",
       "    }\n",
       "\n",
       "    [theme=dark] .colab-df-convert {\n",
       "      background-color: #3B4455;\n",
       "      fill: #D2E3FC;\n",
       "    }\n",
       "\n",
       "    [theme=dark] .colab-df-convert:hover {\n",
       "      background-color: #434B5C;\n",
       "      box-shadow: 0px 1px 3px 1px rgba(0, 0, 0, 0.15);\n",
       "      filter: drop-shadow(0px 1px 2px rgba(0, 0, 0, 0.3));\n",
       "      fill: #FFFFFF;\n",
       "    }\n",
       "  </style>\n",
       "\n",
       "    <script>\n",
       "      const buttonEl =\n",
       "        document.querySelector('#df-e7831650-bdd2-4aff-9ac9-41f1a81409f8 button.colab-df-convert');\n",
       "      buttonEl.style.display =\n",
       "        google.colab.kernel.accessAllowed ? 'block' : 'none';\n",
       "\n",
       "      async function convertToInteractive(key) {\n",
       "        const element = document.querySelector('#df-e7831650-bdd2-4aff-9ac9-41f1a81409f8');\n",
       "        const dataTable =\n",
       "          await google.colab.kernel.invokeFunction('convertToInteractive',\n",
       "                                                    [key], {});\n",
       "        if (!dataTable) return;\n",
       "\n",
       "        const docLinkHtml = 'Like what you see? Visit the ' +\n",
       "          '<a target=\"_blank\" href=https://colab.research.google.com/notebooks/data_table.ipynb>data table notebook</a>'\n",
       "          + ' to learn more about interactive tables.';\n",
       "        element.innerHTML = '';\n",
       "        dataTable['output_type'] = 'display_data';\n",
       "        await google.colab.output.renderOutput(dataTable, element);\n",
       "        const docLink = document.createElement('div');\n",
       "        docLink.innerHTML = docLinkHtml;\n",
       "        element.appendChild(docLink);\n",
       "      }\n",
       "    </script>\n",
       "  </div>\n",
       "\n",
       "\n",
       "    <div id=\"df-427c8dd0-e2cc-4948-a8c7-255c01e88d3a\">\n",
       "      <button class=\"colab-df-quickchart\" onclick=\"quickchart('df-427c8dd0-e2cc-4948-a8c7-255c01e88d3a')\"\n",
       "                title=\"Suggest charts\"\n",
       "                style=\"display:none;\">\n",
       "\n",
       "<svg xmlns=\"http://www.w3.org/2000/svg\" height=\"24px\"viewBox=\"0 0 24 24\"\n",
       "     width=\"24px\">\n",
       "    <g>\n",
       "        <path d=\"M19 3H5c-1.1 0-2 .9-2 2v14c0 1.1.9 2 2 2h14c1.1 0 2-.9 2-2V5c0-1.1-.9-2-2-2zM9 17H7v-7h2v7zm4 0h-2V7h2v10zm4 0h-2v-4h2v4z\"/>\n",
       "    </g>\n",
       "</svg>\n",
       "      </button>\n",
       "\n",
       "<style>\n",
       "  .colab-df-quickchart {\n",
       "      --bg-color: #E8F0FE;\n",
       "      --fill-color: #1967D2;\n",
       "      --hover-bg-color: #E2EBFA;\n",
       "      --hover-fill-color: #174EA6;\n",
       "      --disabled-fill-color: #AAA;\n",
       "      --disabled-bg-color: #DDD;\n",
       "  }\n",
       "\n",
       "  [theme=dark] .colab-df-quickchart {\n",
       "      --bg-color: #3B4455;\n",
       "      --fill-color: #D2E3FC;\n",
       "      --hover-bg-color: #434B5C;\n",
       "      --hover-fill-color: #FFFFFF;\n",
       "      --disabled-bg-color: #3B4455;\n",
       "      --disabled-fill-color: #666;\n",
       "  }\n",
       "\n",
       "  .colab-df-quickchart {\n",
       "    background-color: var(--bg-color);\n",
       "    border: none;\n",
       "    border-radius: 50%;\n",
       "    cursor: pointer;\n",
       "    display: none;\n",
       "    fill: var(--fill-color);\n",
       "    height: 32px;\n",
       "    padding: 0;\n",
       "    width: 32px;\n",
       "  }\n",
       "\n",
       "  .colab-df-quickchart:hover {\n",
       "    background-color: var(--hover-bg-color);\n",
       "    box-shadow: 0 1px 2px rgba(60, 64, 67, 0.3), 0 1px 3px 1px rgba(60, 64, 67, 0.15);\n",
       "    fill: var(--button-hover-fill-color);\n",
       "  }\n",
       "\n",
       "  .colab-df-quickchart-complete:disabled,\n",
       "  .colab-df-quickchart-complete:disabled:hover {\n",
       "    background-color: var(--disabled-bg-color);\n",
       "    fill: var(--disabled-fill-color);\n",
       "    box-shadow: none;\n",
       "  }\n",
       "\n",
       "  .colab-df-spinner {\n",
       "    border: 2px solid var(--fill-color);\n",
       "    border-color: transparent;\n",
       "    border-bottom-color: var(--fill-color);\n",
       "    animation:\n",
       "      spin 1s steps(1) infinite;\n",
       "  }\n",
       "\n",
       "  @keyframes spin {\n",
       "    0% {\n",
       "      border-color: transparent;\n",
       "      border-bottom-color: var(--fill-color);\n",
       "      border-left-color: var(--fill-color);\n",
       "    }\n",
       "    20% {\n",
       "      border-color: transparent;\n",
       "      border-left-color: var(--fill-color);\n",
       "      border-top-color: var(--fill-color);\n",
       "    }\n",
       "    30% {\n",
       "      border-color: transparent;\n",
       "      border-left-color: var(--fill-color);\n",
       "      border-top-color: var(--fill-color);\n",
       "      border-right-color: var(--fill-color);\n",
       "    }\n",
       "    40% {\n",
       "      border-color: transparent;\n",
       "      border-right-color: var(--fill-color);\n",
       "      border-top-color: var(--fill-color);\n",
       "    }\n",
       "    60% {\n",
       "      border-color: transparent;\n",
       "      border-right-color: var(--fill-color);\n",
       "    }\n",
       "    80% {\n",
       "      border-color: transparent;\n",
       "      border-right-color: var(--fill-color);\n",
       "      border-bottom-color: var(--fill-color);\n",
       "    }\n",
       "    90% {\n",
       "      border-color: transparent;\n",
       "      border-bottom-color: var(--fill-color);\n",
       "    }\n",
       "  }\n",
       "</style>\n",
       "\n",
       "      <script>\n",
       "        async function quickchart(key) {\n",
       "          const quickchartButtonEl =\n",
       "            document.querySelector('#' + key + ' button');\n",
       "          quickchartButtonEl.disabled = true;  // To prevent multiple clicks.\n",
       "          quickchartButtonEl.classList.add('colab-df-spinner');\n",
       "          try {\n",
       "            const charts = await google.colab.kernel.invokeFunction(\n",
       "                'suggestCharts', [key], {});\n",
       "          } catch (error) {\n",
       "            console.error('Error during call to suggestCharts:', error);\n",
       "          }\n",
       "          quickchartButtonEl.classList.remove('colab-df-spinner');\n",
       "          quickchartButtonEl.classList.add('colab-df-quickchart-complete');\n",
       "        }\n",
       "        (() => {\n",
       "          let quickchartButtonEl =\n",
       "            document.querySelector('#df-427c8dd0-e2cc-4948-a8c7-255c01e88d3a button');\n",
       "          quickchartButtonEl.style.display =\n",
       "            google.colab.kernel.accessAllowed ? 'block' : 'none';\n",
       "        })();\n",
       "      </script>\n",
       "    </div>\n",
       "\n",
       "    </div>\n",
       "  </div>\n"
      ],
      "text/plain": [
       "                               reviewId         userName  \\\n",
       "0  c81e3f12-5ba4-4a62-9fbb-404cfc7696d7  Pengguna Google   \n",
       "1  a86fe68b-785a-4b6f-af4f-17be12f5de60  Pengguna Google   \n",
       "2  04d70e2f-765e-46d9-b05f-41da2e7d13fe  Pengguna Google   \n",
       "3  d3f2847f-5945-48f2-b8ec-151929689e88  Pengguna Google   \n",
       "4  e8a40a50-62da-472f-ad0e-5089d9df74b1  Pengguna Google   \n",
       "\n",
       "                                           userImage  \\\n",
       "0  https://play-lh.googleusercontent.com/EGemoI2N...   \n",
       "1  https://play-lh.googleusercontent.com/EGemoI2N...   \n",
       "2  https://play-lh.googleusercontent.com/EGemoI2N...   \n",
       "3  https://play-lh.googleusercontent.com/EGemoI2N...   \n",
       "4  https://play-lh.googleusercontent.com/EGemoI2N...   \n",
       "\n",
       "                                             content  score  thumbsUpCount  \\\n",
       "0  kesulitan ada disaat pembuatan garis trend dan...      5              4   \n",
       "1  Indodax 3.0 mudah digunakan dan aksesibel, Den...      5             20   \n",
       "2  menurut saya aplikasi indodax ini sangat memba...      5              9   \n",
       "3  top lah buat aplikasi indodax, buat investasi ...      5              5   \n",
       "4  menurut saya ini aplikasi indodax paling mudah...      5              3   \n",
       "\n",
       "  reviewCreatedVersion                  at  \\\n",
       "0                5.5.0 2025-05-07 05:15:57   \n",
       "1                5.5.0 2025-05-04 01:35:01   \n",
       "2                5.5.0 2025-05-05 07:13:11   \n",
       "3                5.5.0 2025-05-06 10:48:48   \n",
       "4                5.5.0 2025-05-04 16:44:17   \n",
       "\n",
       "                                        replyContent           repliedAt  \\\n",
       "0  Dear member INDODAX. Terima kasih atas review ... 2025-05-07 20:59:32   \n",
       "1  Dear member INDODAX. Terima kasih atas review ... 2025-05-03 11:16:57   \n",
       "2  Dear member INDODAX, terima kasih atas review ... 2025-05-05 21:19:58   \n",
       "3  Dear member, terima kasih telah mengikuti even... 2025-05-06 13:19:40   \n",
       "4  Dear member, terima kasih telah mengikuti even... 2025-05-05 02:08:48   \n",
       "\n",
       "  appVersion  \n",
       "0      5.5.0  \n",
       "1      5.5.0  \n",
       "2      5.5.0  \n",
       "3      5.5.0  \n",
       "4      5.5.0  "
      ]
     },
     "execution_count": 7,
     "metadata": {},
     "output_type": "execute_result"
    }
   ],
   "source": [
    "app_reviews_df.head()"
   ]
  }
 ],
 "metadata": {
  "colab": {
   "provenance": []
  },
  "kernelspec": {
   "display_name": "Python 3",
   "language": "python",
   "name": "python3"
  },
  "language_info": {
   "codemirror_mode": {
    "name": "ipython",
    "version": 3
   },
   "file_extension": ".py",
   "mimetype": "text/x-python",
   "name": "python",
   "nbconvert_exporter": "python",
   "pygments_lexer": "ipython3",
   "version": "3.12.8"
  }
 },
 "nbformat": 4,
 "nbformat_minor": 5
}
